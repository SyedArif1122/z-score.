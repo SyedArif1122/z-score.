{
  "nbformat": 4,
  "nbformat_minor": 0,
  "metadata": {
    "colab": {
      "name": "Z SCORE.ipynb",
      "provenance": []
    },
    "kernelspec": {
      "name": "python3",
      "display_name": "Python 3"
    },
    "language_info": {
      "name": "python"
    }
  },
  "cells": [
    {
      "cell_type": "markdown",
      "source": [
        "import libraries.......like Numpy for arrays pandas for data fram and scipy for state."
      ],
      "metadata": {
        "id": "BopnnOfn2fzZ"
      }
    },
    {
      "cell_type": "code",
      "execution_count": 1,
      "metadata": {
        "id": "RaRRRxng1Gme"
      },
      "outputs": [],
      "source": [
        "import numpy as np\n",
        "import pandas as pd \n",
        "import scipy.stats as stats"
      ]
    },
    {
      "cell_type": "markdown",
      "source": [
        "Create an array of values "
      ],
      "metadata": {
        "id": "BlLzpRTP3AGn"
      }
    },
    {
      "cell_type": "code",
      "source": [
        "data = np.array([6,7,7,12,13,13,15,16,19,22])"
      ],
      "metadata": {
        "id": "qbjsfjkv1Zzq"
      },
      "execution_count": 2,
      "outputs": []
    },
    {
      "cell_type": "markdown",
      "source": [
        "Calculate the Z-score for each values in the array."
      ],
      "metadata": {
        "id": "AyniHsIC3J8_"
      }
    },
    {
      "cell_type": "code",
      "source": [
        "stats.zscore(data)"
      ],
      "metadata": {
        "colab": {
          "base_uri": "https://localhost:8080/"
        },
        "id": "3_n2MRWu15q5",
        "outputId": "e6abf5cd-169e-47f8-c32d-039b6fc23f9e"
      },
      "execution_count": 3,
      "outputs": [
        {
          "output_type": "execute_result",
          "data": {
            "text/plain": [
              "array([-1.39443338, -1.19522861, -1.19522861, -0.19920477,  0.        ,\n",
              "        0.        ,  0.39840954,  0.5976143 ,  1.19522861,  1.79284291])"
            ]
          },
          "metadata": {},
          "execution_count": 3
        }
      ]
    },
    {
      "cell_type": "code",
      "source": [
        ""
      ],
      "metadata": {
        "id": "JsKh2T2g2MBj"
      },
      "execution_count": null,
      "outputs": []
    }
  ]
}